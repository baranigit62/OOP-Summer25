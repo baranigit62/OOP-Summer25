{
 "cells": [
  {
   "cell_type": "code",
   "execution_count": null,
   "id": "f51d5ccc",
   "metadata": {
    "vscode": {
     "languageId": "plaintext"
    }
   },
   "outputs": [],
   "source": [
    "print(\"baran igit\")\n"
   ]
  },
  {
   "cell_type": "code",
   "execution_count": null,
   "id": "bf9646b8",
   "metadata": {
    "vscode": {
     "languageId": "plaintext"
    }
   },
   "outputs": [],
   "source": [
    "x = 8\n",
    "print(x)\n",
    "print(type(x))"
   ]
  },
  {
   "cell_type": "code",
   "execution_count": null,
   "id": "c66cf649",
   "metadata": {
    "vscode": {
     "languageId": "plaintext"
    }
   },
   "outputs": [],
   "source": [
    "fruits = ['apple', 'banana', 'mango', 'pineapple']\n",
    "for c in fruits:\n",
    "    print(c)"
   ]
  },
  {
   "cell_type": "code",
   "execution_count": null,
   "id": "b42ee73f",
   "metadata": {
    "vscode": {
     "languageId": "plaintext"
    }
   },
   "outputs": [],
   "source": [
    "class Student:\n",
    "    def __init__(self, name, index_number):\n",
    "        self.name = name\n",
    "        self.index_number = index_number"
   ]
  },
  {
   "cell_type": "code",
   "execution_count": null,
   "id": "0c299e77",
   "metadata": {
    "vscode": {
     "languageId": "plaintext"
    }
   },
   "outputs": [],
   "source": [
    "student1 = Student('baran', '35431')\n",
    "student2 = Student('hulusi', '35453')\n",
    "print(student1.name, student1.index_number)\n",
    "print(student2.name, student2.index_number)"
   ]
  },
  {
   "cell_type": "code",
   "execution_count": null,
   "id": "2bc12151",
   "metadata": {
    "vscode": {
     "languageId": "plaintext"
    }
   },
   "outputs": [],
   "source": [
    "cars = {\n",
    "    \"brand\": \"toyota\"'\n",
    "    \"year\" : \"2022\"\n",
    "    \n",
    "}\n",
    "print(\"brand\",cars{\"brand\"})\n",
    "print(\"year\",cars{\"year\"})"
   ]
  }
 ],
 "metadata": {
  "language_info": {
   "name": "python"
  }
 },
 "nbformat": 4,
 "nbformat_minor": 5
}
