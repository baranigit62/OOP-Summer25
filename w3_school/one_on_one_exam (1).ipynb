{
 "cells": [
  {
   "cell_type": "code",
   "execution_count": 6,
   "id": "f51d5ccc",
   "metadata": {},
   "outputs": [
    {
     "name": "stdout",
     "output_type": "stream",
     "text": [
      "baran igit\n"
     ]
    }
   ],
   "source": [
    "print(\"baran igit\")\n"
   ]
  },
  {
   "cell_type": "code",
   "execution_count": 7,
   "id": "bf9646b8",
   "metadata": {},
   "outputs": [
    {
     "name": "stdout",
     "output_type": "stream",
     "text": [
      "8\n",
      "<class 'int'>\n"
     ]
    }
   ],
   "source": [
    "x = 8\n",
    "print(x)\n",
    "print(type(x))"
   ]
  },
  {
   "cell_type": "code",
   "execution_count": 8,
   "id": "c66cf649",
   "metadata": {},
   "outputs": [
    {
     "name": "stdout",
     "output_type": "stream",
     "text": [
      "apple\n",
      "banana\n",
      "mango\n",
      "pineapple\n"
     ]
    }
   ],
   "source": [
    "fruits = ['apple', 'banana', 'mango', 'pineapple']\n",
    "for c in fruits:\n",
    "    print(c)"
   ]
  },
  {
   "cell_type": "code",
   "execution_count": 9,
   "id": "b42ee73f",
   "metadata": {},
   "outputs": [],
   "source": [
    "class Student:\n",
    "    def __init__(self, name, index_number):\n",
    "        self.name = name\n",
    "        self.index_number = index_number"
   ]
  },
  {
   "cell_type": "code",
   "execution_count": 17,
   "id": "0c299e77",
   "metadata": {},
   "outputs": [
    {
     "name": "stdout",
     "output_type": "stream",
     "text": [
      "baran 35431\n",
      "hulusi 35453\n"
     ]
    }
   ],
   "source": [
    "student1 = Student('baran', '35431')\n",
    "student2 = Student('hulusi', '35453')\n",
    "print(student1.name, student1.index_number)\n",
    "print(student2.name, student2.index_number)"
   ]
  },
  {
   "cell_type": "code",
   "execution_count": 15,
   "id": "2bc12151",
   "metadata": {},
   "outputs": [
    {
     "name": "stdout",
     "output_type": "stream",
     "text": [
      "brand toyota\n",
      "year 2022\n"
     ]
    }
   ],
   "source": [
    "cars = {\n",
    "    \"brand\": \"toyota\",\n",
    "    \"year\": \"2022\",\n",
    "}\n",
    "\n",
    "print(\"brand\", cars[\"brand\"])\n",
    "print(\"year\", cars[\"year\"])\n"
   ]
  },
  {
   "cell_type": "code",
   "execution_count": 16,
   "id": "71abd6d3",
   "metadata": {},
   "outputs": [],
   "source": [
    "numbers = [1,2,3]\n",
    "\n",
    "strings = ['a','b','c']\n",
    "\n",
    "x = 5\n",
    "y = 10\n",
    "z = 15\n",
    "numberlist = [x,y,z]\n",
    "students = [student1,student2]"
   ]
  }
 ],
 "metadata": {
  "kernelspec": {
   "display_name": "Python 3",
   "language": "python",
   "name": "python3"
  },
  "language_info": {
   "codemirror_mode": {
    "name": "ipython",
    "version": 3
   },
   "file_extension": ".py",
   "mimetype": "text/x-python",
   "name": "python",
   "nbconvert_exporter": "python",
   "pygments_lexer": "ipython3",
   "version": "3.12.1"
  }
 },
 "nbformat": 4,
 "nbformat_minor": 5
}
